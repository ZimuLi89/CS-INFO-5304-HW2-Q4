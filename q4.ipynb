{
  "cells": [
    {
      "cell_type": "code",
      "execution_count": 12,
      "metadata": {
        "colab": {
          "base_uri": "https://localhost:8080/"
        },
        "id": "CqayYhBHOQ1b",
        "outputId": "3a0c0b61-0784-41ed-9636-24aa993f96dc"
      },
      "outputs": [],
      "source": [
        "# !pip install pandas\n",
        "# !pip install plotly\n",
        "# !pip install ipywidgets\n",
        "# !pip install google.colab"
      ]
    },
    {
      "cell_type": "code",
      "execution_count": 13,
      "metadata": {
        "id": "u10BPJDFOhSP"
      },
      "outputs": [],
      "source": [
        "import pandas as pd\n",
        "import matplotlib.pyplot as plt\n",
        "import plotly.graph_objects as go\n",
        "from ipywidgets import interact, IntSlider"
      ]
    },
    {
      "cell_type": "code",
      "execution_count": 14,
      "metadata": {
        "colab": {
          "base_uri": "https://localhost:8080/"
        },
        "id": "ELo4VO8RO2JZ",
        "outputId": "4d7e2920-a237-4be8-b667-517d23ad8694"
      },
      "outputs": [],
      "source": [
        "# from google.colab import drive\n",
        "# drive.mount('/content/drive')"
      ]
    },
    {
      "cell_type": "code",
      "execution_count": 15,
      "metadata": {
        "colab": {
          "base_uri": "https://localhost:8080/",
          "height": 206
        },
        "id": "jZ7HOx_CQTLi",
        "outputId": "de5d759d-d690-4388-9d69-d52f27197d49"
      },
      "outputs": [
        {
          "data": {
            "text/html": [
              "<div>\n",
              "<style scoped>\n",
              "    .dataframe tbody tr th:only-of-type {\n",
              "        vertical-align: middle;\n",
              "    }\n",
              "\n",
              "    .dataframe tbody tr th {\n",
              "        vertical-align: top;\n",
              "    }\n",
              "\n",
              "    .dataframe thead th {\n",
              "        text-align: right;\n",
              "    }\n",
              "</style>\n",
              "<table border=\"1\" class=\"dataframe\">\n",
              "  <thead>\n",
              "    <tr style=\"text-align: right;\">\n",
              "      <th></th>\n",
              "      <th>time</th>\n",
              "      <th>longitude</th>\n",
              "      <th>latitude</th>\n",
              "      <th>Ktemp</th>\n",
              "    </tr>\n",
              "  </thead>\n",
              "  <tbody>\n",
              "    <tr>\n",
              "      <th>0</th>\n",
              "      <td>1950-01-01 9:00:00</td>\n",
              "      <td>286</td>\n",
              "      <td>40.75</td>\n",
              "      <td>274.39734</td>\n",
              "    </tr>\n",
              "    <tr>\n",
              "      <th>1</th>\n",
              "      <td>1950-01-02 9:00:00</td>\n",
              "      <td>286</td>\n",
              "      <td>40.75</td>\n",
              "      <td>277.07593</td>\n",
              "    </tr>\n",
              "    <tr>\n",
              "      <th>2</th>\n",
              "      <td>1950-01-03 9:00:00</td>\n",
              "      <td>286</td>\n",
              "      <td>40.75</td>\n",
              "      <td>280.80090</td>\n",
              "    </tr>\n",
              "    <tr>\n",
              "      <th>3</th>\n",
              "      <td>1950-01-04 9:00:00</td>\n",
              "      <td>286</td>\n",
              "      <td>40.75</td>\n",
              "      <td>287.14010</td>\n",
              "    </tr>\n",
              "    <tr>\n",
              "      <th>4</th>\n",
              "      <td>1950-01-05 9:00:00</td>\n",
              "      <td>286</td>\n",
              "      <td>40.75</td>\n",
              "      <td>285.65262</td>\n",
              "    </tr>\n",
              "  </tbody>\n",
              "</table>\n",
              "</div>"
            ],
            "text/plain": [
              "                 time  longitude  latitude      Ktemp\n",
              "0  1950-01-01 9:00:00        286     40.75  274.39734\n",
              "1  1950-01-02 9:00:00        286     40.75  277.07593\n",
              "2  1950-01-03 9:00:00        286     40.75  280.80090\n",
              "3  1950-01-04 9:00:00        286     40.75  287.14010\n",
              "4  1950-01-05 9:00:00        286     40.75  285.65262"
            ]
          },
          "execution_count": 15,
          "metadata": {},
          "output_type": "execute_result"
        }
      ],
      "source": [
        "file_path = 'weather - 286_40.75_t2m_1d.csv'\n",
        "weather_df = pd.read_csv(file_path)\n",
        "weather_df.head()"
      ]
    },
    {
      "cell_type": "code",
      "execution_count": 16,
      "metadata": {
        "id": "K4eeZCKeRojT"
      },
      "outputs": [],
      "source": [
        "weather_df['time'] = pd.to_datetime(weather_df['time'])\n",
        "weather_df['year'] = weather_df['time'].dt.year\n",
        "weather_df['month'] = weather_df['time'].dt.month"
      ]
    },
    {
      "cell_type": "code",
      "execution_count": 17,
      "metadata": {
        "id": "ocQ808seRo8I"
      },
      "outputs": [],
      "source": [
        "weather_df['Ftemp'] = (weather_df['Ktemp'] - 273.15) * (9/5) + 32\n",
        "\n",
        "monthly_avg_temp = weather_df.groupby(['year', 'month'])['Ftemp'].mean().reset_index()"
      ]
    },
    {
      "cell_type": "code",
      "execution_count": 18,
      "metadata": {
        "id": "wcQrDcnBRqkR"
      },
      "outputs": [],
      "source": [
        "def plot_avg_monthly_temps(year):\n",
        "    \"\"\"Plot the average monthly temperatures for a given year.\"\"\"\n",
        "    plt.figure(figsize=(10, 6))\n",
        "    yearly_data = monthly_avg_temp[monthly_avg_temp['year'] == year]\n",
        "    plt.plot(yearly_data['month'], yearly_data['Ftemp'], marker='o', linestyle='-')\n",
        "    plt.title(f'Average Monthly Temperatures in {year}')\n",
        "    plt.xlabel('Month')\n",
        "    plt.ylabel('Temperature (°F)')\n",
        "    plt.xticks(range(1, 13), ['Jan', 'Feb', 'Mar', 'Apr', 'May', 'Jun', 'Jul', 'Aug', 'Sep', 'Oct', 'Nov', 'Dec'])\n",
        "    plt.grid(True)\n",
        "    plt.show()"
      ]
    },
    {
      "cell_type": "code",
      "execution_count": 19,
      "metadata": {
        "colab": {
          "base_uri": "https://localhost:8080/",
          "height": 683,
          "referenced_widgets": [
            "38228ac46d9943dd9c3925a5903a74cb",
            "30734d2fb76548709a49ac05cf3e2356",
            "c170b5df0b0c4b3eadf34998379c8b26",
            "475ea842a4074becb4ae8af27eddb2fa",
            "bc458595c45a4dc983c31cfb09a1163f",
            "cc70039fc83c4edcafab872a233887b7",
            "ddcb38ae9b6e4007ac237fef680ae5df"
          ]
        },
        "id": "vKI-OWckRsKq",
        "outputId": "248b080f-3c39-4092-82d4-998131053bcd"
      },
      "outputs": [
        {
          "data": {
            "application/vnd.jupyter.widget-view+json": {
              "model_id": "31e9ca30fd974e7bb5046c478f067ec0",
              "version_major": 2,
              "version_minor": 0
            },
            "text/plain": [
              "interactive(children=(IntSlider(value=1950, description='Select Year', max=2021, min=1950), Output()), _dom_cl…"
            ]
          },
          "metadata": {},
          "output_type": "display_data"
        },
        {
          "data": {
            "text/plain": [
              "<function __main__.plot_avg_monthly_temps(year)>"
            ]
          },
          "execution_count": 19,
          "metadata": {},
          "output_type": "execute_result"
        }
      ],
      "source": [
        "year_slider = IntSlider(min=weather_df['year'].min(), max=weather_df['year'].max(), step=1, value=weather_df['year'].min(), description='Select Year')\n",
        "\n",
        "interact(plot_avg_monthly_temps, year=year_slider)"
      ]
    },
    {
      "cell_type": "code",
      "execution_count": 20,
      "metadata": {
        "colab": {
          "base_uri": "https://localhost:8080/"
        },
        "id": "DWBk-HGSRuHn",
        "outputId": "70031ef4-f0e6-45f2-d77f-cc2320da193d"
      },
      "outputs": [
        {
          "name": "stdout",
          "output_type": "stream",
          "text": [
            "The first year where the average temperature exceeded 55 degrees Fahrenheit was 1953.\n"
          ]
        }
      ],
      "source": [
        "annual_avg_temp = weather_df.groupby('year')['Ftemp'].mean().reset_index()\n",
        "warm_year = annual_avg_temp[annual_avg_temp['Ftemp'] > 55].head(1)\n",
        "\n",
        "if not warm_year.empty:\n",
        "    first_warm_year = warm_year['year'].values[0]\n",
        "    print(f\"The first year where the average temperature exceeded 55 degrees Fahrenheit was {first_warm_year}.\")\n",
        "else:\n",
        "    print(\"No year in the dataset has an average temperature exceeding 55 degrees Fahrenheit.\")"
      ]
    },
    {
      "cell_type": "code",
      "execution_count": 21,
      "metadata": {
        "id": "2KxH7T6ATrqA"
      },
      "outputs": [],
      "source": [
        "def get_season(month):\n",
        "    if month in [12, 1, 2]:\n",
        "        return 'Winter'\n",
        "    elif month in [3, 4, 5]:\n",
        "        return 'Spring'\n",
        "    elif month in [6, 7, 8]:\n",
        "        return 'Summer'\n",
        "    elif month in [9, 10, 11]:\n",
        "        return 'Fall'"
      ]
    },
    {
      "cell_type": "code",
      "execution_count": 22,
      "metadata": {
        "colab": {
          "base_uri": "https://localhost:8080/",
          "height": 596,
          "referenced_widgets": [
            "e54749a11c15432491bf02fd8c0204cb",
            "5d52fbf8f0bd47fc84683c8b2cba718a",
            "3973b7a735264bd29e512c6f9113db20",
            "1a30d4ff966f465ba1b016712fdbbdd8",
            "88371aa9754f48ee89c6694f2bdd5279",
            "d8be3b1c22a742c9962807a60563a052",
            "528e56bdd7c7465e8b7d1902028e7f2a"
          ]
        },
        "id": "ED-Jtw-Ya6tS",
        "outputId": "d5ae0f4b-bce1-4777-e748-8c4d2ee54fe8"
      },
      "outputs": [
        {
          "data": {
            "application/vnd.jupyter.widget-view+json": {
              "model_id": "89df508e6cc3475b9ca39e4c65790d4e",
              "version_major": 2,
              "version_minor": 0
            },
            "text/plain": [
              "interactive(children=(IntSlider(value=1950, description='Decade Start:', max=2011, min=1950), Output()), _dom_…"
            ]
          },
          "metadata": {},
          "output_type": "display_data"
        }
      ],
      "source": [
        "def prepare_seasonal_data(df):\n",
        "    df['season'] = df['month'].apply(get_season)\n",
        "    seasonal_avg_temp = df.groupby(['year', 'season'])['Ftemp'].mean().reset_index()\n",
        "    return seasonal_avg_temp.pivot(index='year', columns='season', values='Ftemp')\n",
        "\n",
        "def plot_data_with_matplotlib(start_year, seasonal_avg_temp_pivot):\n",
        "    seasons = ['Winter', 'Spring', 'Summer', 'Fall']\n",
        "    colors = ['blue', 'green', 'red', 'orange']\n",
        "\n",
        "    plt.figure(figsize=(10, 6))\n",
        "    for season, color in zip(seasons, colors):\n",
        "        plt.plot(seasonal_avg_temp_pivot.loc[start_year:start_year+9].index,\n",
        "                 seasonal_avg_temp_pivot.loc[start_year:start_year+9, season],\n",
        "                 marker='o', color=color, label=season)\n",
        "\n",
        "    plt.title(f'Seasonal Average Temperatures from {start_year} to {start_year+9}')\n",
        "    plt.xlabel('Year')\n",
        "    plt.ylabel('Temperature (F)')\n",
        "    plt.legend(title='Season')\n",
        "    plt.grid(True)\n",
        "    plt.show()\n",
        "\n",
        "def interactive_plot(seasonal_avg_temp_pivot):\n",
        "    start_year = seasonal_avg_temp_pivot.index.min()\n",
        "    end_year = seasonal_avg_temp_pivot.index.max()\n",
        "\n",
        "    @interact\n",
        "    def update_plot(start_year=IntSlider(min=start_year, max=end_year-10, step=1, value=start_year, description='Decade Start:')):\n",
        "        plot_data_with_matplotlib(start_year, seasonal_avg_temp_pivot)\n",
        "\n",
        "seasonal_avg_temp_pivot = prepare_seasonal_data(weather_df)\n",
        "\n",
        "interactive_plot(seasonal_avg_temp_pivot)"
      ]
    }
  ],
  "metadata": {
    "colab": {
      "provenance": []
    },
    "kernelspec": {
      "display_name": "Python 3",
      "name": "python3"
    },
    "language_info": {
      "codemirror_mode": {
        "name": "ipython",
        "version": 3
      },
      "file_extension": ".py",
      "mimetype": "text/x-python",
      "name": "python",
      "nbconvert_exporter": "python",
      "pygments_lexer": "ipython3",
      "version": "3.11.4"
    },
    "widgets": {
      "application/vnd.jupyter.widget-state+json": {
        "1a30d4ff966f465ba1b016712fdbbdd8": {
          "model_module": "@jupyter-widgets/base",
          "model_module_version": "1.2.0",
          "model_name": "LayoutModel",
          "state": {
            "_model_module": "@jupyter-widgets/base",
            "_model_module_version": "1.2.0",
            "_model_name": "LayoutModel",
            "_view_count": null,
            "_view_module": "@jupyter-widgets/base",
            "_view_module_version": "1.2.0",
            "_view_name": "LayoutView",
            "align_content": null,
            "align_items": null,
            "align_self": null,
            "border": null,
            "bottom": null,
            "display": null,
            "flex": null,
            "flex_flow": null,
            "grid_area": null,
            "grid_auto_columns": null,
            "grid_auto_flow": null,
            "grid_auto_rows": null,
            "grid_column": null,
            "grid_gap": null,
            "grid_row": null,
            "grid_template_areas": null,
            "grid_template_columns": null,
            "grid_template_rows": null,
            "height": null,
            "justify_content": null,
            "justify_items": null,
            "left": null,
            "margin": null,
            "max_height": null,
            "max_width": null,
            "min_height": null,
            "min_width": null,
            "object_fit": null,
            "object_position": null,
            "order": null,
            "overflow": null,
            "overflow_x": null,
            "overflow_y": null,
            "padding": null,
            "right": null,
            "top": null,
            "visibility": null,
            "width": null
          }
        },
        "30734d2fb76548709a49ac05cf3e2356": {
          "model_module": "@jupyter-widgets/controls",
          "model_module_version": "1.5.0",
          "model_name": "IntSliderModel",
          "state": {
            "_dom_classes": [],
            "_model_module": "@jupyter-widgets/controls",
            "_model_module_version": "1.5.0",
            "_model_name": "IntSliderModel",
            "_view_count": null,
            "_view_module": "@jupyter-widgets/controls",
            "_view_module_version": "1.5.0",
            "_view_name": "IntSliderView",
            "continuous_update": true,
            "description": "Select Year",
            "description_tooltip": null,
            "disabled": false,
            "layout": "IPY_MODEL_bc458595c45a4dc983c31cfb09a1163f",
            "max": 2021,
            "min": 1950,
            "orientation": "horizontal",
            "readout": true,
            "readout_format": "d",
            "step": 1,
            "style": "IPY_MODEL_cc70039fc83c4edcafab872a233887b7",
            "value": 1950
          }
        },
        "38228ac46d9943dd9c3925a5903a74cb": {
          "model_module": "@jupyter-widgets/controls",
          "model_module_version": "1.5.0",
          "model_name": "VBoxModel",
          "state": {
            "_dom_classes": [
              "widget-interact"
            ],
            "_model_module": "@jupyter-widgets/controls",
            "_model_module_version": "1.5.0",
            "_model_name": "VBoxModel",
            "_view_count": null,
            "_view_module": "@jupyter-widgets/controls",
            "_view_module_version": "1.5.0",
            "_view_name": "VBoxView",
            "box_style": "",
            "children": [
              "IPY_MODEL_30734d2fb76548709a49ac05cf3e2356",
              "IPY_MODEL_c170b5df0b0c4b3eadf34998379c8b26"
            ],
            "layout": "IPY_MODEL_475ea842a4074becb4ae8af27eddb2fa"
          }
        },
        "3973b7a735264bd29e512c6f9113db20": {
          "model_module": "@jupyter-widgets/output",
          "model_module_version": "1.0.0",
          "model_name": "OutputModel",
          "state": {
            "_dom_classes": [],
            "_model_module": "@jupyter-widgets/output",
            "_model_module_version": "1.0.0",
            "_model_name": "OutputModel",
            "_view_count": null,
            "_view_module": "@jupyter-widgets/output",
            "_view_module_version": "1.0.0",
            "_view_name": "OutputView",
            "layout": "IPY_MODEL_528e56bdd7c7465e8b7d1902028e7f2a",
            "msg_id": "",
            "outputs": [
              {
                "data": {
                  "image/png": "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\n",
                  "text/plain": "<Figure size 1000x600 with 1 Axes>"
                },
                "metadata": {},
                "output_type": "display_data"
              }
            ]
          }
        },
        "475ea842a4074becb4ae8af27eddb2fa": {
          "model_module": "@jupyter-widgets/base",
          "model_module_version": "1.2.0",
          "model_name": "LayoutModel",
          "state": {
            "_model_module": "@jupyter-widgets/base",
            "_model_module_version": "1.2.0",
            "_model_name": "LayoutModel",
            "_view_count": null,
            "_view_module": "@jupyter-widgets/base",
            "_view_module_version": "1.2.0",
            "_view_name": "LayoutView",
            "align_content": null,
            "align_items": null,
            "align_self": null,
            "border": null,
            "bottom": null,
            "display": null,
            "flex": null,
            "flex_flow": null,
            "grid_area": null,
            "grid_auto_columns": null,
            "grid_auto_flow": null,
            "grid_auto_rows": null,
            "grid_column": null,
            "grid_gap": null,
            "grid_row": null,
            "grid_template_areas": null,
            "grid_template_columns": null,
            "grid_template_rows": null,
            "height": null,
            "justify_content": null,
            "justify_items": null,
            "left": null,
            "margin": null,
            "max_height": null,
            "max_width": null,
            "min_height": null,
            "min_width": null,
            "object_fit": null,
            "object_position": null,
            "order": null,
            "overflow": null,
            "overflow_x": null,
            "overflow_y": null,
            "padding": null,
            "right": null,
            "top": null,
            "visibility": null,
            "width": null
          }
        },
        "528e56bdd7c7465e8b7d1902028e7f2a": {
          "model_module": "@jupyter-widgets/base",
          "model_module_version": "1.2.0",
          "model_name": "LayoutModel",
          "state": {
            "_model_module": "@jupyter-widgets/base",
            "_model_module_version": "1.2.0",
            "_model_name": "LayoutModel",
            "_view_count": null,
            "_view_module": "@jupyter-widgets/base",
            "_view_module_version": "1.2.0",
            "_view_name": "LayoutView",
            "align_content": null,
            "align_items": null,
            "align_self": null,
            "border": null,
            "bottom": null,
            "display": null,
            "flex": null,
            "flex_flow": null,
            "grid_area": null,
            "grid_auto_columns": null,
            "grid_auto_flow": null,
            "grid_auto_rows": null,
            "grid_column": null,
            "grid_gap": null,
            "grid_row": null,
            "grid_template_areas": null,
            "grid_template_columns": null,
            "grid_template_rows": null,
            "height": null,
            "justify_content": null,
            "justify_items": null,
            "left": null,
            "margin": null,
            "max_height": null,
            "max_width": null,
            "min_height": null,
            "min_width": null,
            "object_fit": null,
            "object_position": null,
            "order": null,
            "overflow": null,
            "overflow_x": null,
            "overflow_y": null,
            "padding": null,
            "right": null,
            "top": null,
            "visibility": null,
            "width": null
          }
        },
        "5d52fbf8f0bd47fc84683c8b2cba718a": {
          "model_module": "@jupyter-widgets/controls",
          "model_module_version": "1.5.0",
          "model_name": "IntSliderModel",
          "state": {
            "_dom_classes": [],
            "_model_module": "@jupyter-widgets/controls",
            "_model_module_version": "1.5.0",
            "_model_name": "IntSliderModel",
            "_view_count": null,
            "_view_module": "@jupyter-widgets/controls",
            "_view_module_version": "1.5.0",
            "_view_name": "IntSliderView",
            "continuous_update": true,
            "description": "Decade Start:",
            "description_tooltip": null,
            "disabled": false,
            "layout": "IPY_MODEL_88371aa9754f48ee89c6694f2bdd5279",
            "max": 2011,
            "min": 1950,
            "orientation": "horizontal",
            "readout": true,
            "readout_format": "d",
            "step": 1,
            "style": "IPY_MODEL_d8be3b1c22a742c9962807a60563a052",
            "value": 1980
          }
        },
        "88371aa9754f48ee89c6694f2bdd5279": {
          "model_module": "@jupyter-widgets/base",
          "model_module_version": "1.2.0",
          "model_name": "LayoutModel",
          "state": {
            "_model_module": "@jupyter-widgets/base",
            "_model_module_version": "1.2.0",
            "_model_name": "LayoutModel",
            "_view_count": null,
            "_view_module": "@jupyter-widgets/base",
            "_view_module_version": "1.2.0",
            "_view_name": "LayoutView",
            "align_content": null,
            "align_items": null,
            "align_self": null,
            "border": null,
            "bottom": null,
            "display": null,
            "flex": null,
            "flex_flow": null,
            "grid_area": null,
            "grid_auto_columns": null,
            "grid_auto_flow": null,
            "grid_auto_rows": null,
            "grid_column": null,
            "grid_gap": null,
            "grid_row": null,
            "grid_template_areas": null,
            "grid_template_columns": null,
            "grid_template_rows": null,
            "height": null,
            "justify_content": null,
            "justify_items": null,
            "left": null,
            "margin": null,
            "max_height": null,
            "max_width": null,
            "min_height": null,
            "min_width": null,
            "object_fit": null,
            "object_position": null,
            "order": null,
            "overflow": null,
            "overflow_x": null,
            "overflow_y": null,
            "padding": null,
            "right": null,
            "top": null,
            "visibility": null,
            "width": null
          }
        },
        "bc458595c45a4dc983c31cfb09a1163f": {
          "model_module": "@jupyter-widgets/base",
          "model_module_version": "1.2.0",
          "model_name": "LayoutModel",
          "state": {
            "_model_module": "@jupyter-widgets/base",
            "_model_module_version": "1.2.0",
            "_model_name": "LayoutModel",
            "_view_count": null,
            "_view_module": "@jupyter-widgets/base",
            "_view_module_version": "1.2.0",
            "_view_name": "LayoutView",
            "align_content": null,
            "align_items": null,
            "align_self": null,
            "border": null,
            "bottom": null,
            "display": null,
            "flex": null,
            "flex_flow": null,
            "grid_area": null,
            "grid_auto_columns": null,
            "grid_auto_flow": null,
            "grid_auto_rows": null,
            "grid_column": null,
            "grid_gap": null,
            "grid_row": null,
            "grid_template_areas": null,
            "grid_template_columns": null,
            "grid_template_rows": null,
            "height": null,
            "justify_content": null,
            "justify_items": null,
            "left": null,
            "margin": null,
            "max_height": null,
            "max_width": null,
            "min_height": null,
            "min_width": null,
            "object_fit": null,
            "object_position": null,
            "order": null,
            "overflow": null,
            "overflow_x": null,
            "overflow_y": null,
            "padding": null,
            "right": null,
            "top": null,
            "visibility": null,
            "width": null
          }
        },
        "c170b5df0b0c4b3eadf34998379c8b26": {
          "model_module": "@jupyter-widgets/output",
          "model_module_version": "1.0.0",
          "model_name": "OutputModel",
          "state": {
            "_dom_classes": [],
            "_model_module": "@jupyter-widgets/output",
            "_model_module_version": "1.0.0",
            "_model_name": "OutputModel",
            "_view_count": null,
            "_view_module": "@jupyter-widgets/output",
            "_view_module_version": "1.0.0",
            "_view_name": "OutputView",
            "layout": "IPY_MODEL_ddcb38ae9b6e4007ac237fef680ae5df",
            "msg_id": "",
            "outputs": [
              {
                "data": {
                  "image/png": "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\n",
                  "text/plain": "<Figure size 1000x600 with 1 Axes>"
                },
                "metadata": {},
                "output_type": "display_data"
              }
            ]
          }
        },
        "cc70039fc83c4edcafab872a233887b7": {
          "model_module": "@jupyter-widgets/controls",
          "model_module_version": "1.5.0",
          "model_name": "SliderStyleModel",
          "state": {
            "_model_module": "@jupyter-widgets/controls",
            "_model_module_version": "1.5.0",
            "_model_name": "SliderStyleModel",
            "_view_count": null,
            "_view_module": "@jupyter-widgets/base",
            "_view_module_version": "1.2.0",
            "_view_name": "StyleView",
            "description_width": "",
            "handle_color": null
          }
        },
        "d8be3b1c22a742c9962807a60563a052": {
          "model_module": "@jupyter-widgets/controls",
          "model_module_version": "1.5.0",
          "model_name": "SliderStyleModel",
          "state": {
            "_model_module": "@jupyter-widgets/controls",
            "_model_module_version": "1.5.0",
            "_model_name": "SliderStyleModel",
            "_view_count": null,
            "_view_module": "@jupyter-widgets/base",
            "_view_module_version": "1.2.0",
            "_view_name": "StyleView",
            "description_width": "",
            "handle_color": null
          }
        },
        "ddcb38ae9b6e4007ac237fef680ae5df": {
          "model_module": "@jupyter-widgets/base",
          "model_module_version": "1.2.0",
          "model_name": "LayoutModel",
          "state": {
            "_model_module": "@jupyter-widgets/base",
            "_model_module_version": "1.2.0",
            "_model_name": "LayoutModel",
            "_view_count": null,
            "_view_module": "@jupyter-widgets/base",
            "_view_module_version": "1.2.0",
            "_view_name": "LayoutView",
            "align_content": null,
            "align_items": null,
            "align_self": null,
            "border": null,
            "bottom": null,
            "display": null,
            "flex": null,
            "flex_flow": null,
            "grid_area": null,
            "grid_auto_columns": null,
            "grid_auto_flow": null,
            "grid_auto_rows": null,
            "grid_column": null,
            "grid_gap": null,
            "grid_row": null,
            "grid_template_areas": null,
            "grid_template_columns": null,
            "grid_template_rows": null,
            "height": null,
            "justify_content": null,
            "justify_items": null,
            "left": null,
            "margin": null,
            "max_height": null,
            "max_width": null,
            "min_height": null,
            "min_width": null,
            "object_fit": null,
            "object_position": null,
            "order": null,
            "overflow": null,
            "overflow_x": null,
            "overflow_y": null,
            "padding": null,
            "right": null,
            "top": null,
            "visibility": null,
            "width": null
          }
        },
        "e54749a11c15432491bf02fd8c0204cb": {
          "model_module": "@jupyter-widgets/controls",
          "model_module_version": "1.5.0",
          "model_name": "VBoxModel",
          "state": {
            "_dom_classes": [
              "widget-interact"
            ],
            "_model_module": "@jupyter-widgets/controls",
            "_model_module_version": "1.5.0",
            "_model_name": "VBoxModel",
            "_view_count": null,
            "_view_module": "@jupyter-widgets/controls",
            "_view_module_version": "1.5.0",
            "_view_name": "VBoxView",
            "box_style": "",
            "children": [
              "IPY_MODEL_5d52fbf8f0bd47fc84683c8b2cba718a",
              "IPY_MODEL_3973b7a735264bd29e512c6f9113db20"
            ],
            "layout": "IPY_MODEL_1a30d4ff966f465ba1b016712fdbbdd8"
          }
        }
      }
    }
  },
  "nbformat": 4,
  "nbformat_minor": 0
}
